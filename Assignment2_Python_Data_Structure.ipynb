{
  "nbformat": 4,
  "nbformat_minor": 0,
  "metadata": {
    "colab": {
      "provenance": []
    },
    "kernelspec": {
      "name": "python3",
      "display_name": "Python 3"
    },
    "language_info": {
      "name": "python"
    }
  },
  "cells": [
    {
      "cell_type": "markdown",
      "source": [
        "# **Data Types and Structures Questions**"
      ],
      "metadata": {
        "id": "u_VgACNMDoln"
      }
    },
    {
      "cell_type": "markdown",
      "source": [
        " 1.What are data structures, and why are they important.\n",
        "   - Data structures are specialized formats for organizing, processing, and storing data efficiently. They are important because they help manage large amounts of data efficiently and enable optimized access,insertion, deletion, and searching operations."
      ],
      "metadata": {
        "id": "klxreruti1os"
      }
    },
    {
      "cell_type": "markdown",
      "source": [
        "2.Explain the difference between mutable and immutable data types with examples.\n",
        "  - Mutable data types can be changed after creation, like lists and dictionaries. Immutable data types cannot be changed once created, like strings and tuples.\n",
        "Example:\n",
        "- **List (mutable**):\n",
        " a = [1, 2];\n",
        " a[0] = 5\n",
        "- **Tuple (immutable)**:\n",
        " t = (1, 2);\n",
        " t[0] = 5 will raise an error."
      ],
      "metadata": {
        "id": "S9YQ5Gh4BWxN"
      }
    },
    {
      "cell_type": "markdown",
      "source": [
        " 3.What are the main differences between lists and tuples in Python.\n",
        "   - Lists are mutable, can be modified, and have more built-in methods.\n",
        "   Tuples are immutable, generally faster, and used when data should not change."
      ],
      "metadata": {
        "id": "owtRBY6vHz2F"
      }
    },
    {
      "cell_type": "markdown",
      "source": [
        "4.Describe how dictionaries store data .\n",
        "  - Dictionaries store data as key-value pairs. Each key is unique, and values are accessed using these keys.\n",
        "Internally, Python uses a hash table to map keys to values."
      ],
      "metadata": {
        "id": "OgF_BPl5BjFs"
      }
    },
    {
      "cell_type": "markdown",
      "source": [
        "5.Why might you use a set instead of a list in Python.\n",
        "  - Sets are used when you need to store unique items and perform operations like unions, intersections, or checking membership quickly. They automatically eliminate duplicates"
      ],
      "metadata": {
        "id": "fz_VXMsHBnDl"
      }
    },
    {
      "cell_type": "markdown",
      "source": [
        "6.What is a string in Python, and how is it different from a list.\n",
        "  - A string is an immutable sequence of characters. A list is a mutable sequence that can contain any data type. You can't change characters in a string directly, but you can in a list."
      ],
      "metadata": {
        "id": "B0wW2btuBw48"
      }
    },
    {
      "cell_type": "markdown",
      "source": [
        "7.How do tuples ensure data integrity in Python.\n",
        "  - Tuples are immutable, meaning their contents cannot be changed. This immutability ensures that data remains consistent and unchanged, which is important in many cases like dictionary keys."
      ],
      "metadata": {
        "id": "EZBsZBU7B2lT"
      }
    },
    {
      "cell_type": "markdown",
      "source": [
        "8.What is a hash table, and how does it relate to dictionaries in Python.\n",
        "  - A hash table is a data structure that maps keys to values using a hash function. In Python, dictionaries use hash tables to enable fast data access using keys.\n"
      ],
      "metadata": {
        "id": "TovwjpukB7nj"
      }
    },
    {
      "cell_type": "markdown",
      "source": [
        "9.Can lists contain different data types in Python.\n",
        "  - Yes, Python lists are heterogeneous, meaning they can store elements of different data types like integers, strings, and even other lists.\n"
      ],
      "metadata": {
        "id": "wCPpxFHXCAS7"
      }
    },
    {
      "cell_type": "markdown",
      "source": [
        "10.Explain why strings are immutable in Python.\n",
        "  - Strings are immutable for memory efficiency and performance. It also helps in avoiding unexpected bugs and makes strings hashable, allowing them to be used as dictionary keys."
      ],
      "metadata": {
        "id": "ZLFAbWfZCExT"
      }
    },
    {
      "cell_type": "markdown",
      "source": [
        "11.What advantages do dictionaries offer over lists for certain tasks.\n",
        "  - Dictionaries provide faster lookup for values using keys (O(1) average time) and are better for when you need to associate values with unique identifiers."
      ],
      "metadata": {
        "id": "2cCYYnSHCHmT"
      }
    },
    {
      "cell_type": "markdown",
      "source": [
        "12.How do sets handle duplicate values in Python.\n",
        "  - Sets automatically remove duplicate values. If you add the same value multiple times, only one instance is stored.\n",
        "\n"
      ],
      "metadata": {
        "id": "WTJXdre2CSnq"
      }
    },
    {
      "cell_type": "markdown",
      "source": [
        " 13.Describe a scenario where using a tuple would be preferable over a list.\n",
        "   - Tuples are preferable when data should not change, like representing fixed coordinates (x, y) or as keys in dictionaries because they are hashable.\n"
      ],
      "metadata": {
        "id": "q1WFpEhwCixR"
      }
    },
    {
      "cell_type": "markdown",
      "source": [
        "14.How does the “in” keyword work differently for lists and dictionaries.\n",
        "  - 'in' checks for presence of a value in a list, but checks for a key (not value) in a dictionary."
      ],
      "metadata": {
        "id": "OvCPDOXVCxGi"
      }
    },
    {
      "cell_type": "markdown",
      "source": [
        "15.Can you modify the elements of a tuple? Explain why or why not.\n",
        "  - No, tuples are immutable. Once created, you cannot change, add, or remove elements from a tuple"
      ],
      "metadata": {
        "id": "SYplHy3WC0AR"
      }
    },
    {
      "cell_type": "markdown",
      "source": [
        "16.What is a nested dictionary, and give an example of its use case .\n",
        "  - A nested dictionary is a dictionary where values are also dictionaries.\n",
        "\n",
        "Example:\n",
        "data = {'emp1': {'name': 'John', 'age': 30}}"
      ],
      "metadata": {
        "id": "5cjIh2rFC3Fx"
      }
    },
    {
      "cell_type": "markdown",
      "source": [
        " 17.Describe the time complexity of accessing elements in a dictionary.\n",
        "  - Accessing elements in a dictionary has average-case time complexity of O(1), due to the underlying hash table.\n"
      ],
      "metadata": {
        "id": "Jqqwav2GC9bh"
      }
    },
    {
      "cell_type": "markdown",
      "source": [
        "18.In what situations are lists preferred over dictionaries .\n",
        "   - : Lists are preferred when the order of items matters, or when you only need to store items without needing unique identifiers (keys)"
      ],
      "metadata": {
        "id": "81gBwLw4DBwQ"
      }
    },
    {
      "cell_type": "markdown",
      "source": [
        "19.Why are dictionaries considered unordered, and how does that affect data retrieval .\n",
        "   - Historically, dictionaries were unordered. In modern Python (3.7+), they preserve insertion order, but keys are still accessed by name, not position.\n"
      ],
      "metadata": {
        "id": "Sg7EniZKDGXw"
      }
    },
    {
      "cell_type": "markdown",
      "source": [
        "20.Explain the difference between a list and a dictionary in terms of data retrieval.\n",
        "  - In a list, elements are accessed by index.\n",
        "  \n",
        "   (e.g., list[0]),\n",
        "   \n",
        "   While in a dictionary, elements are accessed by key.\n",
        "   \n",
        "   (e.g., dict['name'])."
      ],
      "metadata": {
        "id": "dMa8KxO5DKGw"
      }
    },
    {
      "cell_type": "markdown",
      "source": [
        "# *** Practical Questionstext***"
      ],
      "metadata": {
        "id": "dkiHK8eXPZG1"
      }
    },
    {
      "cell_type": "markdown",
      "source": [
        "1. Write a code to create a string with your name and print it."
      ],
      "metadata": {
        "id": "4M2Jc0-jaCUL"
      }
    },
    {
      "cell_type": "code",
      "source": [
        "name = \"Md Shahnawaz\"\n",
        "print(name)\n",
        "type(name)"
      ],
      "metadata": {
        "colab": {
          "base_uri": "https://localhost:8080/"
        },
        "id": "2rz9DLWZb0uJ",
        "outputId": "bdd1f8ec-9dee-43a8-9e00-10c40e6f3cac"
      },
      "execution_count": 5,
      "outputs": [
        {
          "output_type": "stream",
          "name": "stdout",
          "text": [
            "Md Shahnawaz\n"
          ]
        },
        {
          "output_type": "execute_result",
          "data": {
            "text/plain": [
              "str"
            ]
          },
          "metadata": {},
          "execution_count": 5
        }
      ]
    },
    {
      "cell_type": "markdown",
      "source": [
        "2. Write a code to find the length of the string \"Hello World\"\n"
      ],
      "metadata": {
        "id": "H3aLLljjb1y2"
      }
    },
    {
      "cell_type": "code",
      "source": [
        "len(\"Hello World\")"
      ],
      "metadata": {
        "colab": {
          "base_uri": "https://localhost:8080/"
        },
        "id": "MGWvpWvnb482",
        "outputId": "aebd5428-b617-48b3-81b7-3f9e11e11c7e"
      },
      "execution_count": 6,
      "outputs": [
        {
          "output_type": "execute_result",
          "data": {
            "text/plain": [
              "11"
            ]
          },
          "metadata": {},
          "execution_count": 6
        }
      ]
    },
    {
      "cell_type": "markdown",
      "source": [
        "3. Write a code to slice the first 3 characters from the string \"Python Programming\"\n"
      ],
      "metadata": {
        "id": "wmne8iv1b6IG"
      }
    },
    {
      "cell_type": "code",
      "source": [
        "s = \"Python Programming\"\n",
        "print(s[:3])"
      ],
      "metadata": {
        "colab": {
          "base_uri": "https://localhost:8080/"
        },
        "id": "PjjrUhnjb-iO",
        "outputId": "8c87ac7c-6096-474d-8404-b355825f7c72"
      },
      "execution_count": 7,
      "outputs": [
        {
          "output_type": "stream",
          "name": "stdout",
          "text": [
            "Pyt\n"
          ]
        }
      ]
    },
    {
      "cell_type": "markdown",
      "source": [
        "4. Write a code to convert the string \"hello\" to uppercase\n"
      ],
      "metadata": {
        "id": "18yZ7FNVb_rn"
      }
    },
    {
      "cell_type": "code",
      "source": [
        "s = \"hello\"\n",
        "print(s.upper())"
      ],
      "metadata": {
        "colab": {
          "base_uri": "https://localhost:8080/"
        },
        "id": "5qWvWpPncDxG",
        "outputId": "a14aa4e6-1810-40b3-8b2a-6f41a2be2ca9"
      },
      "execution_count": 8,
      "outputs": [
        {
          "output_type": "stream",
          "name": "stdout",
          "text": [
            "HELLO\n"
          ]
        }
      ]
    },
    {
      "cell_type": "markdown",
      "source": [
        "5.Write a code to replace the word \"apple\" with \"orange\" in the string \"I like apple\"\n"
      ],
      "metadata": {
        "id": "UhrjbQDIcGxO"
      }
    },
    {
      "cell_type": "code",
      "source": [
        "s = \"I like apple\"\n",
        "print(s.replace(\"apple\", \"orange\"))"
      ],
      "metadata": {
        "colab": {
          "base_uri": "https://localhost:8080/"
        },
        "id": "eWBmjXV5cNuW",
        "outputId": "abdf8b4c-b81b-4bbf-d5e5-df078bcca673"
      },
      "execution_count": 9,
      "outputs": [
        {
          "output_type": "stream",
          "name": "stdout",
          "text": [
            "I like orange\n"
          ]
        }
      ]
    },
    {
      "cell_type": "markdown",
      "source": [
        "6. Write a code to create a list with numbers 1 to 5 and print it\n"
      ],
      "metadata": {
        "id": "iPxCGGcScOMF"
      }
    },
    {
      "cell_type": "code",
      "source": [
        "lst = [1, 2, 3, 4, 5]\n",
        "print(lst)"
      ],
      "metadata": {
        "colab": {
          "base_uri": "https://localhost:8080/"
        },
        "id": "ngLm_yUkcRpF",
        "outputId": "25e0ddb5-10de-4bd9-bb50-fca0ffcede61"
      },
      "execution_count": 10,
      "outputs": [
        {
          "output_type": "stream",
          "name": "stdout",
          "text": [
            "[1, 2, 3, 4, 5]\n"
          ]
        }
      ]
    },
    {
      "cell_type": "markdown",
      "source": [
        "7. Write a code to append the number 10 to the list [1, 2, 3, 4]\n"
      ],
      "metadata": {
        "id": "NPfQiG3JcSAV"
      }
    },
    {
      "cell_type": "code",
      "source": [
        "lst = [1, 2, 3, 4]\n",
        "lst.append(10)\n",
        "print(lst)"
      ],
      "metadata": {
        "colab": {
          "base_uri": "https://localhost:8080/"
        },
        "id": "9Ln2aOnMcUzl",
        "outputId": "cea8f0e3-4f77-4d26-e01e-08f6b5d948e0"
      },
      "execution_count": 11,
      "outputs": [
        {
          "output_type": "stream",
          "name": "stdout",
          "text": [
            "[1, 2, 3, 4, 10]\n"
          ]
        }
      ]
    },
    {
      "cell_type": "markdown",
      "source": [
        "8. Write a code to remove the number 3 from the list [1, 2, 3, 4, 5]\n"
      ],
      "metadata": {
        "id": "5wsNS_AhcWKt"
      }
    },
    {
      "cell_type": "code",
      "source": [
        "lst = [1, 2, 3, 4, 5]\n",
        "lst.remove(3)\n",
        "print(lst)"
      ],
      "metadata": {
        "colab": {
          "base_uri": "https://localhost:8080/"
        },
        "id": "PHG2GS2wkxJv",
        "outputId": "a1cd3990-fa21-4226-a68f-d98ef753ff5a"
      },
      "execution_count": 12,
      "outputs": [
        {
          "output_type": "stream",
          "name": "stdout",
          "text": [
            "[1, 2, 4, 5]\n"
          ]
        }
      ]
    },
    {
      "cell_type": "markdown",
      "source": [
        "9. Write a code to access the second element in the list ['a', 'b', 'c', 'd']"
      ],
      "metadata": {
        "id": "O3NKmvbVkx4m"
      }
    },
    {
      "cell_type": "code",
      "source": [
        "lst = ['a', 'b', 'c', 'd']\n",
        "print(lst[1])"
      ],
      "metadata": {
        "colab": {
          "base_uri": "https://localhost:8080/"
        },
        "id": "oYIIzLdSk08-",
        "outputId": "9c1e191b-755d-49bc-cf0c-b895737299c3"
      },
      "execution_count": 13,
      "outputs": [
        {
          "output_type": "stream",
          "name": "stdout",
          "text": [
            "b\n"
          ]
        }
      ]
    },
    {
      "cell_type": "markdown",
      "source": [
        "10. Write a code to reverse the list [10, 20, 30, 40, 50]."
      ],
      "metadata": {
        "id": "hXSZNdHncbAt"
      }
    },
    {
      "cell_type": "code",
      "source": [
        "lst = [10, 20, 30, 40, 50]\n",
        "lst.reverse()\n",
        "print(lst)"
      ],
      "metadata": {
        "colab": {
          "base_uri": "https://localhost:8080/"
        },
        "id": "nlYDTsnKccTt",
        "outputId": "76a67cb9-6ead-448c-f8f4-229acff60603"
      },
      "execution_count": 14,
      "outputs": [
        {
          "output_type": "stream",
          "name": "stdout",
          "text": [
            "[50, 40, 30, 20, 10]\n"
          ]
        }
      ]
    },
    {
      "cell_type": "markdown",
      "source": [
        "11.Write a code to create a tuple with the elements 100, 200, 300 and print it.\n",
        ""
      ],
      "metadata": {
        "id": "xFvEFTo4cxdv"
      }
    },
    {
      "cell_type": "code",
      "source": [
        "tup = (100, 200, 300)\n",
        "print(tup)"
      ],
      "metadata": {
        "colab": {
          "base_uri": "https://localhost:8080/"
        },
        "id": "lvnIKnFkc0pU",
        "outputId": "d7b450ac-fc39-408c-ebcc-eea650674b4b"
      },
      "execution_count": 15,
      "outputs": [
        {
          "output_type": "stream",
          "name": "stdout",
          "text": [
            "(100, 200, 300)\n"
          ]
        }
      ]
    },
    {
      "cell_type": "markdown",
      "source": [
        "12. Write a code to access the second-to-last element of the tuple ('red', 'green', 'blue', 'yellow').\n",
        ""
      ],
      "metadata": {
        "id": "FfGMWYNKc2OU"
      }
    },
    {
      "cell_type": "code",
      "source": [
        "tup = ('red', 'green', 'blue', 'yellow')\n",
        "print(tup[-2])"
      ],
      "metadata": {
        "colab": {
          "base_uri": "https://localhost:8080/"
        },
        "id": "ZITSC4tlc4O0",
        "outputId": "1abdf8e0-64e3-4be0-de42-c6866825d764"
      },
      "execution_count": 16,
      "outputs": [
        {
          "output_type": "stream",
          "name": "stdout",
          "text": [
            "blue\n"
          ]
        }
      ]
    },
    {
      "cell_type": "markdown",
      "source": [
        "13. Write a code to find the minimum number in the tuple (10, 20, 5, 15).\n",
        ""
      ],
      "metadata": {
        "id": "snTCZ-xEc4vk"
      }
    },
    {
      "cell_type": "code",
      "source": [
        "tup = (10, 20, 5, 15)\n",
        "print(min(tup))"
      ],
      "metadata": {
        "colab": {
          "base_uri": "https://localhost:8080/"
        },
        "id": "evRncYiPc7aD",
        "outputId": "bf8b7b73-f41f-40aa-bae7-f501afc2e99e"
      },
      "execution_count": 17,
      "outputs": [
        {
          "output_type": "stream",
          "name": "stdout",
          "text": [
            "5\n"
          ]
        }
      ]
    },
    {
      "cell_type": "markdown",
      "source": [
        "14. Write a code to find the index of the element \"cat\" in the tuple ('dog', 'cat', 'rabbit').\n",
        ""
      ],
      "metadata": {
        "id": "Ac98K0HDc7xc"
      }
    },
    {
      "cell_type": "code",
      "source": [
        "tup = ('dog', 'cat', 'rabbit')\n",
        "print(tup.index(\"cat\"))"
      ],
      "metadata": {
        "colab": {
          "base_uri": "https://localhost:8080/"
        },
        "id": "wIwOSCX8c-kA",
        "outputId": "9c2cdafc-1f7e-447f-f9f4-59568e36b8a7"
      },
      "execution_count": 18,
      "outputs": [
        {
          "output_type": "stream",
          "name": "stdout",
          "text": [
            "1\n"
          ]
        }
      ]
    },
    {
      "cell_type": "markdown",
      "source": [
        "15. Write a code to create a tuple containing three different fruits and check if \"kiwi\" is in it.\n",
        ""
      ],
      "metadata": {
        "id": "6rnrYAGcc_Aw"
      }
    },
    {
      "cell_type": "code",
      "source": [
        "tup = (\"apple\", \"banana\", \"cherry\")\n",
        "print(\"kiwi\" in tup)"
      ],
      "metadata": {
        "colab": {
          "base_uri": "https://localhost:8080/"
        },
        "id": "1IuhHd-idByY",
        "outputId": "87c6c1ff-6fbc-4570-869d-a74043d04460"
      },
      "execution_count": 19,
      "outputs": [
        {
          "output_type": "stream",
          "name": "stdout",
          "text": [
            "False\n"
          ]
        }
      ]
    },
    {
      "cell_type": "markdown",
      "source": [
        "16. Write a code to create a set with the elements 'a', 'b', 'c' and print it.\n",
        ""
      ],
      "metadata": {
        "id": "SAayjuDrdCIX"
      }
    },
    {
      "cell_type": "code",
      "source": [
        "s = {'a', 'b', 'c'}\n",
        "print(s)"
      ],
      "metadata": {
        "colab": {
          "base_uri": "https://localhost:8080/"
        },
        "id": "wA2BAaz9dEhY",
        "outputId": "26f93be6-3a0b-4d0c-97be-8edfb41553e0"
      },
      "execution_count": 20,
      "outputs": [
        {
          "output_type": "stream",
          "name": "stdout",
          "text": [
            "{'a', 'b', 'c'}\n"
          ]
        }
      ]
    },
    {
      "cell_type": "markdown",
      "source": [
        "17. Write a code to clear all elements from the set {1, 2, 3, 4, 5}."
      ],
      "metadata": {
        "id": "Gsx5D09ndFmn"
      }
    },
    {
      "cell_type": "code",
      "source": [
        "s = {1, 2, 3, 4, 5}\n",
        "s.clear()\n",
        "print(s)"
      ],
      "metadata": {
        "colab": {
          "base_uri": "https://localhost:8080/"
        },
        "id": "H-Z-rk-2dGlA",
        "outputId": "7ba0399d-5fe9-4c22-a126-a6d39fe1078f"
      },
      "execution_count": 21,
      "outputs": [
        {
          "output_type": "stream",
          "name": "stdout",
          "text": [
            "set()\n"
          ]
        }
      ]
    },
    {
      "cell_type": "markdown",
      "source": [
        "18. Write a code to remove the element 4 from the set {1, 2, 3, 4}.\n",
        ""
      ],
      "metadata": {
        "id": "_aaC4Ho8dHG4"
      }
    },
    {
      "cell_type": "code",
      "source": [
        "s = {1, 2, 3, 4}\n",
        "s.remove(4)\n",
        "print(s)"
      ],
      "metadata": {
        "colab": {
          "base_uri": "https://localhost:8080/"
        },
        "id": "9TGiY7KAdNHQ",
        "outputId": "65dc2923-ff7a-4718-e2c3-7790dc19c60f"
      },
      "execution_count": 22,
      "outputs": [
        {
          "output_type": "stream",
          "name": "stdout",
          "text": [
            "{1, 2, 3}\n"
          ]
        }
      ]
    },
    {
      "cell_type": "markdown",
      "source": [
        "19. Write a code to find the union of two sets {1, 2, 3} and {3, 4, 5}.\n",
        ""
      ],
      "metadata": {
        "id": "dtXIloCudNy3"
      }
    },
    {
      "cell_type": "code",
      "source": [
        "s1 = {1, 2, 3}\n",
        "s2 = {3, 4, 5}\n",
        "print(s1.union(s2))"
      ],
      "metadata": {
        "colab": {
          "base_uri": "https://localhost:8080/"
        },
        "id": "pit06koUdQQ4",
        "outputId": "d9661d58-4f2d-461a-ff8e-b97a232cfe25"
      },
      "execution_count": 23,
      "outputs": [
        {
          "output_type": "stream",
          "name": "stdout",
          "text": [
            "{1, 2, 3, 4, 5}\n"
          ]
        }
      ]
    },
    {
      "cell_type": "markdown",
      "source": [
        "20. Write a code to find the intersection of two sets {1, 2, 3} and {2, 3, 4}.\n",
        ""
      ],
      "metadata": {
        "id": "vnBvXSYzdRM3"
      }
    },
    {
      "cell_type": "code",
      "source": [
        "s1 = {1, 2, 3}\n",
        "s2 = {2, 3, 4}\n",
        "print(s1.intersection(s2))"
      ],
      "metadata": {
        "colab": {
          "base_uri": "https://localhost:8080/"
        },
        "id": "D-lAvD11dUbf",
        "outputId": "dbaaa5fb-1535-454d-86d7-5f60d44af02d"
      },
      "execution_count": 24,
      "outputs": [
        {
          "output_type": "stream",
          "name": "stdout",
          "text": [
            "{2, 3}\n"
          ]
        }
      ]
    },
    {
      "cell_type": "markdown",
      "source": [
        "21. Write a code to create a dictionary with the keys \"name\", \"age\", and \"city\", and print it.\n",
        ""
      ],
      "metadata": {
        "id": "hUVy56tldVoX"
      }
    },
    {
      "cell_type": "code",
      "source": [
        "d = {\"name\": \"John\", \"age\": 25, \"city\": \"New York\"}\n",
        "print(d)\n"
      ],
      "metadata": {
        "colab": {
          "base_uri": "https://localhost:8080/"
        },
        "id": "ObuUk-w4dXgn",
        "outputId": "b1a781f7-607a-4d99-a516-d9ddecece6d8"
      },
      "execution_count": 25,
      "outputs": [
        {
          "output_type": "stream",
          "name": "stdout",
          "text": [
            "{'name': 'John', 'age': 25, 'city': 'New York'}\n"
          ]
        }
      ]
    },
    {
      "cell_type": "markdown",
      "source": [
        "22. Write a code to add a new key-value pair \"country\": \"USA\" to the dictionary {'name': 'John', 'age': 25}.\n",
        " result.(replaced)\n",
        ""
      ],
      "metadata": {
        "id": "Ac7IDeTKdX3w"
      }
    },
    {
      "cell_type": "code",
      "source": [
        "d = {'name': 'John', 'age': 25}\n",
        "d['country'] = 'USA'\n",
        "print(d)"
      ],
      "metadata": {
        "colab": {
          "base_uri": "https://localhost:8080/"
        },
        "id": "vIRk1dYrdb8f",
        "outputId": "c0953a1d-6124-45e4-e823-87454c0e6a0a"
      },
      "execution_count": 31,
      "outputs": [
        {
          "output_type": "stream",
          "name": "stdout",
          "text": [
            "{'name': 'John', 'age': 25, 'country': 'USA'}\n"
          ]
        }
      ]
    },
    {
      "cell_type": "markdown",
      "source": [
        "23. Write a code to access the value associated with the key \"name\" in the dictionary {'name': 'Alice', 'age': 30}."
      ],
      "metadata": {
        "id": "kVsvIwo1dcYA"
      }
    },
    {
      "cell_type": "code",
      "source": [
        "d = {'name': 'Alice', 'age': 30}\n",
        "print(d['name'])"
      ],
      "metadata": {
        "colab": {
          "base_uri": "https://localhost:8080/"
        },
        "id": "2oSj542RddmH",
        "outputId": "59b8b9cb-d642-414e-c85e-448676a0cc3c"
      },
      "execution_count": 32,
      "outputs": [
        {
          "output_type": "stream",
          "name": "stdout",
          "text": [
            "Alice\n"
          ]
        }
      ]
    },
    {
      "cell_type": "markdown",
      "source": [
        "24. Write a code to remove the key \"age\" from the dictionary {'name': 'Bob', 'age': 22, 'city': 'New York'}.\n",
        ""
      ],
      "metadata": {
        "id": "7iqKRtcddd_v"
      }
    },
    {
      "cell_type": "code",
      "source": [
        "d = {'name': 'Bob', 'age': 22, 'city': 'New York'}\n",
        "d.pop('age')\n",
        "print(d)"
      ],
      "metadata": {
        "colab": {
          "base_uri": "https://localhost:8080/"
        },
        "id": "bR_8Jrygdmbh",
        "outputId": "c3edb27b-12f9-4255-c7ab-25baa8e3cd82"
      },
      "execution_count": 33,
      "outputs": [
        {
          "output_type": "stream",
          "name": "stdout",
          "text": [
            "{'name': 'Bob', 'city': 'New York'}\n"
          ]
        }
      ]
    },
    {
      "cell_type": "markdown",
      "source": [
        "25. Write a code to check if the key \"city\" exists in the dictionary {'name': 'Alice', 'city': 'Paris'}.\n",
        ""
      ],
      "metadata": {
        "id": "Ju9LV0TzdmxQ"
      }
    },
    {
      "cell_type": "code",
      "source": [
        "d = {'name': 'Alice', 'city': 'Paris'}\n",
        "print('city' in d)"
      ],
      "metadata": {
        "colab": {
          "base_uri": "https://localhost:8080/"
        },
        "id": "PEWwbeSDdotQ",
        "outputId": "4896421b-a57c-46ef-aab1-294b95854f7b"
      },
      "execution_count": 34,
      "outputs": [
        {
          "output_type": "stream",
          "name": "stdout",
          "text": [
            "True\n"
          ]
        }
      ]
    },
    {
      "cell_type": "markdown",
      "source": [
        "26. Write a code to create a list, a tuple, and a dictionary, and print them all.\n",
        ""
      ],
      "metadata": {
        "id": "qvB_79AsdpJ4"
      }
    },
    {
      "cell_type": "code",
      "source": [
        "lst = [1, 2, 3]\n",
        "tup = (4, 5, 6)\n",
        "d = {\"a\": 1, \"b\": 2}\n",
        "print(lst, tup, d)"
      ],
      "metadata": {
        "colab": {
          "base_uri": "https://localhost:8080/"
        },
        "id": "neRqb2sRdq-I",
        "outputId": "927b10ea-eccd-429c-fcad-b1fc1f695d44"
      },
      "execution_count": 30,
      "outputs": [
        {
          "output_type": "stream",
          "name": "stdout",
          "text": [
            "[1, 2, 3] (4, 5, 6) {'a': 1, 'b': 2}\n"
          ]
        }
      ]
    },
    {
      "cell_type": "markdown",
      "source": [
        "27. Write a code to create a list of 5 random numbers between 1 and 100, sort it in ascending order, and print the\n"
      ],
      "metadata": {
        "id": "QPupZeJYdrS4"
      }
    },
    {
      "cell_type": "code",
      "source": [
        "import random\n",
        "lst = random.sample(range(1, 101), 5)\n",
        "lst.sort()\n",
        "print(lst)"
      ],
      "metadata": {
        "colab": {
          "base_uri": "https://localhost:8080/"
        },
        "id": "XFNRyplgdtXH",
        "outputId": "befa5ba6-05f7-46bc-c938-0cd9a3840643"
      },
      "execution_count": 29,
      "outputs": [
        {
          "output_type": "stream",
          "name": "stdout",
          "text": [
            "[8, 32, 34, 49, 84]\n"
          ]
        }
      ]
    },
    {
      "cell_type": "markdown",
      "source": [
        "28. Write a code to create a list with strings and print the element at the third index.\n",
        ""
      ],
      "metadata": {
        "id": "TkeIqOWPdtsv"
      }
    },
    {
      "cell_type": "code",
      "source": [
        "lst = [\"apple\", \"banana\", \"cherry\", \"date\", \"fig\"]\n",
        "print(lst[3])"
      ],
      "metadata": {
        "colab": {
          "base_uri": "https://localhost:8080/"
        },
        "id": "K1nySGn_dwdX",
        "outputId": "7198b6db-74cf-4428-aaa4-a83d9b3e18d4"
      },
      "execution_count": 28,
      "outputs": [
        {
          "output_type": "stream",
          "name": "stdout",
          "text": [
            "date\n"
          ]
        }
      ]
    },
    {
      "cell_type": "markdown",
      "source": [
        "29. Write a code to combine two dictionaries into one and print the result.\n",
        ""
      ],
      "metadata": {
        "id": "GOFZF_YYdwxi"
      }
    },
    {
      "cell_type": "code",
      "source": [
        "d1 = {\"a\": 1}\n",
        "d2 = {\"b\": 2}\n",
        "d1.update(d2)\n",
        "print(d1)\n"
      ],
      "metadata": {
        "colab": {
          "base_uri": "https://localhost:8080/"
        },
        "id": "aRgJoDMJdy84",
        "outputId": "53001504-3d48-4f87-a645-bc9904b4489a"
      },
      "execution_count": 27,
      "outputs": [
        {
          "output_type": "stream",
          "name": "stdout",
          "text": [
            "{'a': 1, 'b': 2}\n"
          ]
        }
      ]
    },
    {
      "cell_type": "markdown",
      "source": [
        "30. Write a code to convert a list of strings into a set."
      ],
      "metadata": {
        "id": "VK6oOJ7NdzUf"
      }
    },
    {
      "cell_type": "code",
      "source": [
        "lst = [\"apple\", \"banana\", \"apple\"]\n",
        "print(set(lst))"
      ],
      "metadata": {
        "colab": {
          "base_uri": "https://localhost:8080/"
        },
        "id": "P2zLkuK3d0Ov",
        "outputId": "7f09aac3-da28-4cdc-b3e7-54dd9e76980d"
      },
      "execution_count": 26,
      "outputs": [
        {
          "output_type": "stream",
          "name": "stdout",
          "text": [
            "{'apple', 'banana'}\n"
          ]
        }
      ]
    }
  ]
}